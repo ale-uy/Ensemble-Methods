{
 "cells": [
  {
   "cell_type": "markdown",
   "metadata": {},
   "source": [
    "_This notebook contains code and comments from Section 6.5 of the book [Ensemble Methods for Machine Learning](https://www.manning.com/books/ensemble-methods-for-machine-learning). Please see the book for additional details on this topic. This notebook and code are released under the [MIT license](https://github.com/gkunapuli/ensemble-methods-notebooks/blob/master/LICENSE)._\n",
    "\n",
    "## 6.5 Case Study: Document Retrieval\n",
    "Document retrieval is the task of retrieving documents from a database to match a user’s query. For example, a paralegal at a law firm might need to search for information about previous cases from legal archives in order to establish precedent and research case law. Or perhaps a graduate student might need to search for articles from a journal’s database during the course of a literature survey of work in a specific area. \n",
    "\n",
    "In this case study, the problem is set up as a 3-class classification problem of identifying the relevance rank/class (least, moderately or highly relevant) given a query-document pair. We explore the performance of different LightGBM classifiers for this task. \n",
    "\n",
    "### 5.5.1\tThe LETOR Data Set\n",
    "The data set we will use for this case study is called the LEarning TO Rank (LETOR) ver. 4.0, which was itself created from a large corpus of webpages called GOV2. The [GOV2 data set](http://ir.dcs.gla.ac.uk/test_collections/access_to_data.html) is a collection of about 25 million webpages extracted from the .gov domain.\n",
    "\n",
    "The LETOR 4.0  data collection is derived from the GOV2 corpus and is made freely available by Microsoft Research. The collection contains several data sets, and we will use the data set that was originally developed for the Million Query track of the 2008 Text Retrieval Conference (TREC), specifically, [MQ2008.rar](https://www.microsoft.com/en-us/research/project/letor-learning-rank-information-retrieval/#!letor-4-0). "
   ]
  },
  {
   "cell_type": "code",
   "execution_count": 1,
   "metadata": {},
   "outputs": [],
   "source": [
    "from sklearn.datasets import load_svmlight_file\n",
    "from sklearn.model_selection import train_test_split\n",
    "import numpy as np\n",
    "\n",
    "# Load the data\n",
    "query_data_file = './data/ch05/MQ2008/Querylevelnorm.txt'\n",
    "X, y = load_svmlight_file(query_data_file)\n",
    "\n",
    "# Split into train and test sets\n",
    "Xtrn, Xtst, ytrn, ytst = train_test_split(X, y, test_size=0.2, random_state=42)"
   ]
  },
  {
   "cell_type": "markdown",
   "metadata": {},
   "source": [
    "### 6.5.1 Document Retrieval with XGBoost"
   ]
  },
  {
   "cell_type": "code",
   "execution_count": 2,
   "metadata": {},
   "outputs": [
    {
     "name": "stdout",
     "output_type": "stream",
     "text": [
      "{'cv_scores': {'RF': 0.7931469208814301, 'GBDT': 0.8119661826008515, 'GOSS': 0.812212690406932, 'DART': 0.8178834169041739}, 'tst_scores': {'RF': 0.7982254354255669, 'GBDT': 0.8153138350312192, 'GOSS': 0.8136707196845219, 'DART': 0.8189286887939533}, 'run_times': {'RF': 114.08808469772339, 'GBDT': 19.71247959136963, 'GOSS': 22.5469913482666, 'DART': 1063.1322021484375}}\n"
     ]
    }
   ],
   "source": [
    "# # Get results of the LightGBM runs\n",
    "# cv_scores = {'rf': 0.8051450187962624, 'gbdt': 0.8122129268166652, 'goss': 0.8131167212266558, 'dart': 0.8155001366110529}\n",
    "# tst_scores = {'rf': 0.8034834045349983, 'gbdt': 0.8120276043378245, 'goss': 0.8139993427538613, 'dart': 0.8245152809727243}\n",
    "# run_time = {'rf': 122.31625509262085, 'gbdt': 23.24663543701172, 'goss': 19.403377532958984, 'dart': 1144.2085926532745}\n",
    "import pickle\n",
    "with open('./data/LightGBMMetrics.pickle', 'rb') as handle:\n",
    "    metrics = pickle.load(handle)\n",
    "print(metrics)"
   ]
  },
  {
   "cell_type": "code",
   "execution_count": 3,
   "metadata": {},
   "outputs": [],
   "source": [
    "from xgboost import DMatrix, XGBClassifier\n",
    "from sklearn.model_selection import RandomizedSearchCV\n",
    "from sklearn.metrics import accuracy_score\n",
    "import time"
   ]
  },
  {
   "cell_type": "code",
   "execution_count": 4,
   "metadata": {},
   "outputs": [],
   "source": [
    "from scipy.stats import randint, uniform\n",
    "xgb_params = {'max_depth': randint(2, 10), \n",
    "              'learning_rate': 2**np.linspace(-6, 2, num=5),\n",
    "              'min_child_weight': [1e-2, 1e-1, 1, 1e1, 1e2],\n",
    "              'colsample_bytree': uniform(loc=0.4, scale=0.6),\n",
    "              'reg_alpha': [0, 1e-1, 1, 10, 100],\n",
    "              'reg_lambda': [0, 1e-1, 1, 10, 100]}"
   ]
  },
  {
   "cell_type": "code",
   "execution_count": 5,
   "metadata": {},
   "outputs": [
    {
     "name": "stdout",
     "output_type": "stream",
     "text": [
      "Fitting 5 folds for each of 20 candidates, totalling 100 fits\n"
     ]
    }
   ],
   "source": [
    "start = time.time()\n",
    "xgb = XGBClassifier(booster='gbtree', objective='multi:softmax', eval_metric='merror', use_label_encoder=False, n_jobs=-1)\n",
    "num_random_iters = 20\n",
    "num_cv_folds = 5\n",
    "cv = RandomizedSearchCV(estimator=xgb, \n",
    "                        param_distributions=xgb_params,\n",
    "                        n_iter=num_random_iters,\n",
    "                        cv=num_cv_folds,  \n",
    "                        refit=True,\n",
    "                        random_state=42, verbose=1)\n",
    "cv.fit(Xtrn, ytrn, eval_set=[(Xtst, ytst)], verbose=False)\n",
    "metrics['run_times']['XGB'] = time.time() - start"
   ]
  },
  {
   "cell_type": "code",
   "execution_count": 6,
   "metadata": {},
   "outputs": [
    {
     "name": "stdout",
     "output_type": "stream",
     "text": [
      "XGBoost: Best score: 0.8157463066889432, best params: {'colsample_bytree': 0.4936111842654619, 'learning_rate': 0.25, 'max_depth': 8, 'min_child_weight': 1, 'reg_alpha': 1, 'reg_lambda': 100} \n"
     ]
    }
   ],
   "source": [
    "print('XGBoost: Best score: {0}, best params: {1} '.format(cv.best_score_, cv.best_params_))\n",
    "metrics['cv_scores']['XGB'] = cv.best_score_\n",
    "\n",
    "ypred = cv.best_estimator_.predict(Xtst)\n",
    "metrics['tst_scores']['XGB'] = accuracy_score(ytst, ypred)"
   ]
  },
  {
   "cell_type": "code",
   "execution_count": 7,
   "metadata": {},
   "outputs": [
    {
     "name": "stdout",
     "output_type": "stream",
     "text": [
      "{'cv_scores': {'RF': 0.7931469208814301, 'GBDT': 0.8119661826008515, 'GOSS': 0.812212690406932, 'DART': 0.8178834169041739, 'XGB': 0.8157463066889432}, 'tst_scores': {'RF': 0.7982254354255669, 'GBDT': 0.8153138350312192, 'GOSS': 0.8136707196845219, 'DART': 0.8189286887939533, 'XGB': 0.8186000657246139}, 'run_times': {'RF': 114.08808469772339, 'GBDT': 19.71247959136963, 'GOSS': 22.5469913482666, 'DART': 1063.1322021484375, 'XGB': 193.24053812026978}}\n"
     ]
    }
   ],
   "source": [
    "# scores = np.c_[np.array(list(metrics['cv_scores'].values())), np.array(list(metrics['tst_scores'].values()))]\n",
    "print(metrics)\n",
    "with open('./data/XGBoostMetrics.pickle', 'wb') as handle:\n",
    "    pickle.dump(metrics, handle, protocol=pickle.HIGHEST_PROTOCOL)"
   ]
  },
  {
   "cell_type": "code",
   "execution_count": 10,
   "metadata": {},
   "outputs": [
    {
     "data": {
      "image/png": "[encoded data removed]",
      "text/plain": [
       "<Figure size 648x288 with 2 Axes>"
      ]
     },
     "metadata": {
      "needs_background": "light"
     },
     "output_type": "display_data"
    }
   ],
   "source": [
    "import matplotlib.pyplot as plt\n",
    "%matplotlib inline\n",
    "fig, ax = plt.subplots(nrows=1, ncols=2, figsize=(9, 4))\n",
    "\n",
    "scores = np.array(list(metrics['cv_scores'].values()))\n",
    "ax[0].bar(np.arange(1, 6)-0.2, scores, width=0.3)\n",
    "scores = np.array(list(metrics['tst_scores'].values()))\n",
    "ax[0].bar(np.arange(1, 6)+0.2, scores, width=0.3)\n",
    "ax[0].axis([0.3, 5.6, 0.78, 0.83])\n",
    "ax[0].set_ylabel('Accuracy (%)')\n",
    "ax[0].set_xticks([1, 2, 3, 4, 5]);\n",
    "ax[0].set_xticklabels(['RF', 'GBDT', 'GOSS', 'DART', 'XGB']);\n",
    "\n",
    "times = np.array(list(metrics['run_times'].values()))\n",
    "times_scaled = times / np.min(times)\n",
    "ax[1].bar(np.arange(1, 6), times, width=0.3)\n",
    "# for i, v in enumerate(times_scaled):\n",
    "#     ax[1].text(i + 0.8, times[i] + 3.5, '{0:3.2f}%\\n{1:4.2f} s.'.format(v, times[i]), fontweight='bold')\n",
    "for i, v in enumerate(times_scaled):\n",
    "    if i == 1:\n",
    "        ax[1].text(i + 0.8, times[i] + 3.5, '\\n{1:4.2f} s.'.format(v, times[i]), fontweight='bold')\n",
    "    else:\n",
    "        ax[1].text(i + 0.8, times[i] + 3.5, '{0:3.1f}x slower\\n{1:4.2f} s.'.format(v, times[i]), fontweight='bold')\n",
    "\n",
    "\n",
    "ax[1].set_ylabel('Run Time (%)', fontsize=12)\n",
    "ax[1].set_xticks([1, 2, 3, 4, 5]);\n",
    "ax[1].set_xticklabels(['RF', 'GBDT', 'GOSS', 'DART', 'XGB'])\n",
    "\n",
    "\n",
    "fig.tight_layout()\n",
    "plt.savefig('./figures/CH06_F16_Kunapuli.png', format='png', dpi=300, bbox_inches='tight')\n",
    "plt.savefig('./figures/CH06_F16_Kunapuli.pdf', format='pdf', dpi=300, bbox_inches='tight')"
   ]
  }
 ],
 "metadata": {
  "kernelspec": {
   "display_name": "Python 3 (ipykernel)",
   "language": "python",
   "name": "python3"
  },
  "language_info": {
   "codemirror_mode": {
    "name": "ipython",
    "version": 3
   },
   "file_extension": ".py",
   "mimetype": "text/x-python",
   "name": "python",
   "nbconvert_exporter": "python",
   "pygments_lexer": "ipython3",
   "version": "3.10.5"
  }
 },
 "nbformat": 4,
 "nbformat_minor": 2
}
